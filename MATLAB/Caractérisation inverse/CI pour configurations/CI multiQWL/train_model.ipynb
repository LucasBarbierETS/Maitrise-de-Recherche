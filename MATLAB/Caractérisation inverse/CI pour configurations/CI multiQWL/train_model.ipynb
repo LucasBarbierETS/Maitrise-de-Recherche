{
 "cells": [
  {
   "cell_type": "code",
   "execution_count": 29,
   "id": "eea6891c",
   "metadata": {},
   "outputs": [],
   "source": [
    "# On importe les bibliotèques pour la gestion d'objet et le traitement de données\n",
    "import matlab\n",
    "import matlab.engine as engine\n",
    "import numpy as np\n",
    "import scipy.io as scipy\n",
    "import tensorflow as tf\n",
    "import matplotlib.pyplot as plt"
   ]
  },
  {
   "cell_type": "code",
   "execution_count": 2,
   "id": "d70186a5-6bb1-482e-88e8-701e6d8f90c4",
   "metadata": {},
   "outputs": [],
   "source": [
    "# On importe les bibliotèques associées aux méthodes d'apprentissage supervisé\n",
    "from sklearn.model_selection import train_test_split\n",
    "import tensorflow as tf\n",
    "from tensorflow.keras.models import Sequential\n",
    "from tensorflow.keras.layers import Dense\n",
    "from tensorflow.keras.optimizers import Adam\n",
    "from tensorflow.keras.callbacks import EarlyStopping\n",
    "\n",
    "tf.config.run_functions_eagerly(True)"
   ]
  },
  {
   "cell_type": "code",
   "execution_count": 3,
   "id": "d9c5efce-bfe3-489d-ad5c-c36649b03d0f",
   "metadata": {},
   "outputs": [],
   "source": [
    "# On démarre l'environnement virtuel MATLAB\n",
    "eng = engine.start_matlab()"
   ]
  },
  {
   "cell_type": "code",
   "execution_count": 4,
   "id": "76e20163",
   "metadata": {},
   "outputs": [],
   "source": [
    "# On ajoute le chemin d'accès vers l'emplacement de la fonction \n",
    "eng.addpath(r\"C:\\Users\\Utilisateur\\OneDrive - ETS\\CRIAQ-REAR\\Maitrise LB\\Functions\", nargout = 0)\n",
    "eng.add_all_paths(r\"C:\\Users\\Utilisateur\\OneDrive - ETS\\CRIAQ-REAR\\Maitrise LB\", nargout = 0)"
   ]
  },
  {
   "cell_type": "code",
   "execution_count": 5,
   "id": "1815117c-2723-4213-940f-fc658bb222a8",
   "metadata": {},
   "outputs": [],
   "source": [
    "# On teste la fonction de perte\n",
    "eng.eval(f\"run('{\"launch_environnement.m\"}')\", nargout = 0)\n",
    "eng.eval(f\"run('{\"test_multiQWL_cost_function.m\"}')\", nargout = 0)\n",
    "\n",
    "# On nettoie l'environnement\n",
    "eng.eval('clear all', nargout = 0)"
   ]
  },
  {
   "cell_type": "code",
   "execution_count": 6,
   "id": "4bde01af-496f-4d25-9d6a-2741f0fbf1d0",
   "metadata": {},
   "outputs": [],
   "source": [
    "# on définit les paramètres de l'environnement\n",
    "T = 23 # température\n",
    "P = 100800 # static pressure\n",
    "H = 50 # relative humidity\n",
    "\n",
    "# on définit les paramètres du support fréquentiel\n",
    "fmin = 1 # fréquence minimale (Hz)\n",
    "fmax = 3000 # fréquence maximale (Hz)\n",
    "points = 7 # nombre de points sur le spectre\n",
    "\n",
    "# On convertit les données en format MATLAB\n",
    "T_matlab = matlab.double([T])  # Convertir en tableau MATLAB\n",
    "P_matlab = matlab.double([P])\n",
    "H_matlab = matlab.double([H])\n",
    "fmin_matlab = matlab.double([fmin])\n",
    "fmax_matlab = matlab.double([fmax])\n",
    "points_matlab = matlab.double([points])\n",
    "\n",
    "# Appeler la fonction MATLAB (par exemple create_environnement)\n",
    "air_matlab, w_matlab = eng.create_environnement(T_matlab[0], P_matlab[0], H_matlab[0], fmin_matlab[0], fmax_matlab[0], points_matlab[0], nargout = 2)"
   ]
  },
  {
   "cell_type": "code",
   "execution_count": 7,
   "id": "1b002349-13dd-417c-a221-4c05b88a8c51",
   "metadata": {},
   "outputs": [],
   "source": [
    "# On importe le dataset (création du trainset et du testset)\n",
    "eng.load(r'C:\\Users\\Utilisateur\\OneDrive - ETS\\CRIAQ-REAR\\Maitrise LB\\Caractérisation inverse\\CI pour configurations\\CI multiQWL\\data.mat', nargout = 0)\n",
    "data_matlab  = eng.workspace['data']\n",
    "data = {field: np.array(data_matlab[field]) for field in data_matlab.keys()}\n",
    "x = data['X']\n",
    "y = data['Y']"
   ]
  },
  {
   "cell_type": "code",
   "execution_count": 8,
   "id": "884f653b-cf90-46e2-a80e-04729f483481",
   "metadata": {},
   "outputs": [
    {
     "name": "stdout",
     "output_type": "stream",
     "text": [
      "Taille de x_train: (800, 7)\n",
      "Taille de y_train: (800, 8)\n"
     ]
    }
   ],
   "source": [
    "# On prépare les données pour l'apprentissage\n",
    "x_train, x_test, y_train, y_test = train_test_split(x, y, train_size = 0.8, random_state = 42)\n",
    "\n",
    "# On convertit les données en float32\n",
    "x_train = tf.cast(x_train, tf.float32)\n",
    "y_train = tf.cast(y_train, tf.float32)\n",
    "x_test = tf.cast(x_test, tf.float32)\n",
    "y_test = tf.cast(y_test, tf.float32)\n",
    "\n",
    "print(\"Taille de x_train:\", x_train.shape)\n",
    "print(\"Taille de y_train:\", y_train.shape)\n",
    "\n",
    "# On crée les datasets TensorFlow à partir des valeurs extraites\n",
    "trainset = tf.data.Dataset.from_tensor_slices((x_train, y_train)).shuffle(buffer_size = 100).batch(32, drop_remainder = True)\n",
    "testset = tf.data.Dataset.from_tensor_slices((x_test, y_test)).shuffle(buffer_size = 100).batch(32, drop_remainder = True)"
   ]
  },
  {
   "cell_type": "code",
   "execution_count": 9,
   "id": "33a1331c-be68-4527-b833-6b4ad3298972",
   "metadata": {},
   "outputs": [
    {
     "name": "stdout",
     "output_type": "stream",
     "text": [
      "(32, 7)\n",
      "(32, 8)\n",
      "x_batch sample: [0.00400717 0.8316462  0.44949225 0.5112053  0.7518333  0.77998745\n",
      " 0.60347456]\n",
      "y_batch sample: [0.00694347 0.0029629  0.00693993 0.00347775 0.48699436 0.98735744\n",
      " 0.1884232  0.7931485 ]\n"
     ]
    }
   ],
   "source": [
    "# On teste les données du trainset\n",
    "for x_batch, y_batch in trainset.take(1):\n",
    "    print(x_batch.shape)  # Devrait afficher (32, 7)\n",
    "    print(y_batch.shape)  # Devrait afficher (32, 8)\n",
    "    print(\"x_batch sample:\", x_batch.numpy()[0])\n",
    "    print(\"y_batch sample:\", y_batch.numpy()[0])"
   ]
  },
  {
   "cell_type": "code",
   "execution_count": 83,
   "id": "d6b39f41-5e48-4169-b894-aab0482c5ce7",
   "metadata": {},
   "outputs": [],
   "source": [
    "class CustomModel(tf.keras.Model):\n",
    "    def __init__(self, hidden_layers_dim, input_dim, output_dim, air_matlab, w_matlab):\n",
    "        super(CustomModel, self).__init__()\n",
    "        self.hidden_layers_dim = hidden_layers_dim\n",
    "        self.air_matlab = air_matlab\n",
    "        self.w_matlab = w_matlab\n",
    "        self.input_dim = input_dim\n",
    "        self.output_dim = output_dim\n",
    "\n",
    "        self.input_layer = tf.keras.layers.Dense(self.input_dim)\n",
    "        self.dense1 = tf.keras.layers.Dense(hidden_layers_dim, activation='relu')\n",
    "        self.dense2 = tf.keras.layers.Dense(hidden_layers_dim, activation='relu')\n",
    "        self.dense3 = tf.keras.layers.Dense(hidden_layers_dim, activation='relu')\n",
    "        self.dense4 = tf.keras.layers.Dense(hidden_layers_dim, activation='relu')\n",
    "        self.output_layer = tf.keras.layers.Dense(self.output_dim, activation='linear')\n",
    "\n",
    "    def call(self, inputs):\n",
    "        x = self.input_layer(inputs)\n",
    "        x = self.dense1(x)\n",
    "        x = self.dense2(x)\n",
    "        x = self.dense3(x)\n",
    "        x = self.dense4(x)\n",
    "        output = self.output_layer(x)\n",
    "        return output\n",
    "\n",
    "    def train_step(self, data):\n",
    "        x_batch, y_batch = data  # Obtenez les entrées et les sorties du batch\n",
    "\n",
    "        with tf.GradientTape() as tape:\n",
    "            y_pred = self.call(x_batch)\n",
    "            print(\"Shape of x_batch:\", x_batch.shape)\n",
    "            print(\"Shape of y_batch:\", y_batch.shape)\n",
    "            print(\"Shape of y_pred:\", y_pred.shape)\n",
    "\n",
    "            loss = custom_loss(x_batch, y_pred, self.air_matlab, self.w_matlab)\n",
    "            print(\"loss dans fonction d'appel matlab\", loss)\n",
    "            print(\"Shape of loss before reshape:\", loss.shape)\n",
    "            if loss.shape != ():\n",
    "                loss = tf.reshape(loss, [])\n",
    "            print(\"Shape of loss after reshape:\", loss.shape)\n",
    "            print(\"loss in trainstep : \", loss)\n",
    "            tf.print(\"tf.print loss in trainstep : \", loss)\n",
    "\n",
    "        # Calculer les gradients et les appliquer\n",
    "        print(\"self.variables : \", self.trainable_variables)\n",
    "        gradients = tape.gradient(loss, self.trainable_variables)\n",
    "\n",
    "        # Vérification des formes de gradients\n",
    "        for var, grad in zip(self.trainable_variables, gradients):\n",
    "            if grad is None:\n",
    "                print(f\"Gradient for variable {var.name} is None\")\n",
    "            else:\n",
    "                print(f\"Shape of gradient for variable {var.name}:\", grad.shape)\n",
    "\n",
    "        # Vérifiez si un gradient est de forme incorrecte\n",
    "        for grad in gradients:\n",
    "            if grad is not None and grad.shape == ():\n",
    "                print(f\"Unexpected scalar gradient: {grad}\")\n",
    "\n",
    "        self.optimizer.apply_gradients(zip(gradients, self.trainable_variables))\n",
    "        return {\"loss\": loss}"
   ]
  },
  {
   "cell_type": "code",
   "execution_count": 84,
   "id": "d22c9924-dc60-470c-9386-82554e71b188",
   "metadata": {},
   "outputs": [],
   "source": [
    "def custom_loss(x_batch_tf_symb, y_pred_tf_symb, air_matlab, w_matlab):\n",
    "    # On évalue la fonction d'appel après avoir évaluer les tenseurs symboliques\n",
    "    wrapper = multiQWL_cost_function_python_wrapper(air_matlab, w_matlab)\n",
    "    loss_value = tf.py_function(func = wrapper, inp = [x_batch_tf_symb, y_pred_tf_symb], Tout = tf.float32)\n",
    "    print(\"print, loss value : \", loss_value)\n",
    "    tf.print(\"tf print, loss value : \", loss_value)\n",
    "    loss_value = tf.reduce_mean(loss_value)\n",
    "    print(\"reduced loss : \", loss_value)\n",
    "    return loss_value\n",
    "    \n",
    "def multiQWL_cost_function_python_wrapper(air_matlab, w_matlab):\n",
    "    def wrapped_cost_function(x_batch_tf_stat, y_pred_tf_stat):\n",
    "        return multiQWL_cost_function_python(x_batch_tf_stat, y_pred_tf_stat, air_matlab, w_matlab)\n",
    "    return wrapped_cost_function"
   ]
  },
  {
   "cell_type": "code",
   "execution_count": 85,
   "id": "522bfd0d-7fa7-4eff-83b4-56b3d801a64b",
   "metadata": {},
   "outputs": [],
   "source": [
    "# On définit la fonction d'appel de la fonction de perte définit sur matlab qui prend en entrée des tenseurs statiques\n",
    "def multiQWL_cost_function_python(x_batch_tf_stat, y_pred_tf_stat, air_matlab, w_matlab):\n",
    "    # Convertir les tenseurs en Numpy\n",
    "    x_batch_np = x_batch_tf_stat.numpy()\n",
    "    y_batch_np = y_pred_tf_stat.numpy()\n",
    "    \n",
    "    # Convertir en format MATLAB\n",
    "    x_batch_matlab = matlab.double(x_batch_np.tolist())\n",
    "    y_batch_matlab = matlab.double(y_batch_np.tolist())\n",
    "    \n",
    "    # Appeler la fonction MATLAB pour calculer la perte\n",
    "    loss = eng.multiQWL_cost_function(x_batch_matlab, y_batch_matlab, air_matlab, w_matlab)\n",
    "    print(\"loss dans fonction d'appel matlab\", loss)\n",
    "    return loss"
   ]
  },
  {
   "cell_type": "code",
   "execution_count": 86,
   "id": "e82eab2f-83ad-4adc-b976-f61dd871d5b4",
   "metadata": {},
   "outputs": [],
   "source": [
    "# On définit les hyperparamètres nécessaires à l'apprentissage\n",
    "input_dim = x_train.shape[1]  # Dimension de l'entrée (nombre de colonnes)\n",
    "output_dim = y_train.shape[1] # Dimension de la sortie (nombre de colonnes)\n",
    "hidden_units = 10  # Nombre de neurones dans la couche cachée\n",
    "learning_rate = 0.01  # Taux d'apprentissage\n",
    "epochs = 5  # Nombre maximum d'itérations\n",
    "goal = 1e-5  # Seuil d'erreur (utilisé pour l'early stopping)\n",
    "max_fail = 6  # Nombre maximum d'échecs de validation (patience pour l'early stopping)"
   ]
  },
  {
   "cell_type": "code",
   "execution_count": 87,
   "id": "3b7764dd-5df8-4e76-803c-0486163c6638",
   "metadata": {},
   "outputs": [],
   "source": [
    "# On crée et compile le modèle personnalisé\n",
    "model = CustomModel(hidden_units, input_dim, output_dim, air_matlab, w_matlab)\n",
    "model.compile(optimizer = tf.keras.optimizers.Adam(learning_rate = learning_rate))"
   ]
  },
  {
   "cell_type": "code",
   "execution_count": 88,
   "id": "29673649-a0a4-4d33-b5a7-2dd14aee9c08",
   "metadata": {
    "scrolled": true
   },
   "outputs": [
    {
     "name": "stdout",
     "output_type": "stream",
     "text": [
      "Epoch 1/5\n",
      "Shape of x_batch: (32, 7)\n",
      "Shape of y_batch: (32, 8)\n",
      "Shape of y_pred: (32, 8)\n",
      "loss dans fonction d'appel matlab 320.0\n",
      "print, loss value :  tf.Tensor(320.0, shape=(), dtype=float32)\n",
      "tf print, loss value :  320\n",
      "reduced loss :  tf.Tensor(320.0, shape=(), dtype=float32)\n",
      "loss dans fonction d'appel matlab tf.Tensor(320.0, shape=(), dtype=float32)\n",
      "Shape of loss before reshape: ()\n",
      "Shape of loss after reshape: ()\n",
      "loss in trainstep :  tf.Tensor(320.0, shape=(), dtype=float32)\n",
      "tf.print loss in trainstep :  320\n",
      "self.variables :  [<KerasVariable shape=(7, 7), dtype=float32, path=dense_72/kernel>, <KerasVariable shape=(7,), dtype=float32, path=dense_72/bias>, <KerasVariable shape=(7, 10), dtype=float32, path=dense_73/kernel>, <KerasVariable shape=(10,), dtype=float32, path=dense_73/bias>, <KerasVariable shape=(10, 10), dtype=float32, path=dense_74/kernel>, <KerasVariable shape=(10,), dtype=float32, path=dense_74/bias>, <KerasVariable shape=(10, 10), dtype=float32, path=dense_75/kernel>, <KerasVariable shape=(10,), dtype=float32, path=dense_75/bias>, <KerasVariable shape=(10, 10), dtype=float32, path=dense_76/kernel>, <KerasVariable shape=(10,), dtype=float32, path=dense_76/bias>, <KerasVariable shape=(10, 8), dtype=float32, path=dense_77/kernel>, <KerasVariable shape=(8,), dtype=float32, path=dense_77/bias>]\n"
     ]
    },
    {
     "ename": "InvalidArgumentError",
     "evalue": "{{function_node __wrapped__Reshape_device_/job:localhost/replica:0/task:0/device:CPU:0}} Input to reshape is a tensor with 1 values, but the requested shape has 256 [Op:Reshape] name: ",
     "output_type": "error",
     "traceback": [
      "\u001b[1;31m---------------------------------------------------------------------------\u001b[0m",
      "\u001b[1;31mInvalidArgumentError\u001b[0m                      Traceback (most recent call last)",
      "Cell \u001b[1;32mIn[88], line 5\u001b[0m\n\u001b[0;32m      2\u001b[0m early_stopping \u001b[38;5;241m=\u001b[39m tf\u001b[38;5;241m.\u001b[39mkeras\u001b[38;5;241m.\u001b[39mcallbacks\u001b[38;5;241m.\u001b[39mEarlyStopping(monitor \u001b[38;5;241m=\u001b[39m \u001b[38;5;124m'\u001b[39m\u001b[38;5;124mloss\u001b[39m\u001b[38;5;124m'\u001b[39m, patience \u001b[38;5;241m=\u001b[39m max_fail, min_delta \u001b[38;5;241m=\u001b[39m goal)\n\u001b[0;32m      4\u001b[0m \u001b[38;5;66;03m# On crée et on compile le modèle personnalisé\u001b[39;00m\n\u001b[1;32m----> 5\u001b[0m history \u001b[38;5;241m=\u001b[39m \u001b[43mmodel\u001b[49m\u001b[38;5;241;43m.\u001b[39;49m\u001b[43mfit\u001b[49m\u001b[43m(\u001b[49m\u001b[43mtrainset\u001b[49m\u001b[43m,\u001b[49m\u001b[43m \u001b[49m\u001b[43mepochs\u001b[49m\u001b[43m \u001b[49m\u001b[38;5;241;43m=\u001b[39;49m\u001b[43m \u001b[49m\u001b[43mepochs\u001b[49m\u001b[43m,\u001b[49m\u001b[43m \u001b[49m\u001b[43mcallbacks\u001b[49m\u001b[43m \u001b[49m\u001b[38;5;241;43m=\u001b[39;49m\u001b[43m \u001b[49m\u001b[43m[\u001b[49m\u001b[43mearly_stopping\u001b[49m\u001b[43m]\u001b[49m\u001b[43m)\u001b[49m\n",
      "File \u001b[1;32m~\\AppData\\Local\\Packages\\PythonSoftwareFoundation.Python.3.12_qbz5n2kfra8p0\\LocalCache\\local-packages\\Python312\\site-packages\\keras\\src\\utils\\traceback_utils.py:122\u001b[0m, in \u001b[0;36mfilter_traceback.<locals>.error_handler\u001b[1;34m(*args, **kwargs)\u001b[0m\n\u001b[0;32m    119\u001b[0m     filtered_tb \u001b[38;5;241m=\u001b[39m _process_traceback_frames(e\u001b[38;5;241m.\u001b[39m__traceback__)\n\u001b[0;32m    120\u001b[0m     \u001b[38;5;66;03m# To get the full stack trace, call:\u001b[39;00m\n\u001b[0;32m    121\u001b[0m     \u001b[38;5;66;03m# `keras.config.disable_traceback_filtering()`\u001b[39;00m\n\u001b[1;32m--> 122\u001b[0m     \u001b[38;5;28;01mraise\u001b[39;00m e\u001b[38;5;241m.\u001b[39mwith_traceback(filtered_tb) \u001b[38;5;28;01mfrom\u001b[39;00m \u001b[38;5;28;01mNone\u001b[39;00m\n\u001b[0;32m    123\u001b[0m \u001b[38;5;28;01mfinally\u001b[39;00m:\n\u001b[0;32m    124\u001b[0m     \u001b[38;5;28;01mdel\u001b[39;00m filtered_tb\n",
      "Cell \u001b[1;32mIn[83], line 46\u001b[0m, in \u001b[0;36mCustomModel.train_step\u001b[1;34m(self, data)\u001b[0m\n\u001b[0;32m     44\u001b[0m \u001b[38;5;66;03m# Calculer les gradients et les appliquer\u001b[39;00m\n\u001b[0;32m     45\u001b[0m \u001b[38;5;28mprint\u001b[39m(\u001b[38;5;124m\"\u001b[39m\u001b[38;5;124mself.variables : \u001b[39m\u001b[38;5;124m\"\u001b[39m, \u001b[38;5;28mself\u001b[39m\u001b[38;5;241m.\u001b[39mtrainable_variables)\n\u001b[1;32m---> 46\u001b[0m gradients \u001b[38;5;241m=\u001b[39m \u001b[43mtape\u001b[49m\u001b[38;5;241;43m.\u001b[39;49m\u001b[43mgradient\u001b[49m\u001b[43m(\u001b[49m\u001b[43mloss\u001b[49m\u001b[43m,\u001b[49m\u001b[43m \u001b[49m\u001b[38;5;28;43mself\u001b[39;49m\u001b[38;5;241;43m.\u001b[39;49m\u001b[43mtrainable_variables\u001b[49m\u001b[43m)\u001b[49m\n\u001b[0;32m     48\u001b[0m \u001b[38;5;66;03m# Vérification des formes de gradients\u001b[39;00m\n\u001b[0;32m     49\u001b[0m \u001b[38;5;28;01mfor\u001b[39;00m var, grad \u001b[38;5;129;01min\u001b[39;00m \u001b[38;5;28mzip\u001b[39m(\u001b[38;5;28mself\u001b[39m\u001b[38;5;241m.\u001b[39mtrainable_variables, gradients):\n",
      "\u001b[1;31mInvalidArgumentError\u001b[0m: {{function_node __wrapped__Reshape_device_/job:localhost/replica:0/task:0/device:CPU:0}} Input to reshape is a tensor with 1 values, but the requested shape has 256 [Op:Reshape] name: "
     ]
    }
   ],
   "source": [
    "# On implémente un callback d'early stopping\n",
    "early_stopping = tf.keras.callbacks.EarlyStopping(monitor = 'loss', patience = max_fail, min_delta = goal)\n",
    "\n",
    "# On crée et on compile le modèle personnalisé\n",
    "history = model.fit(trainset, epochs = epochs, callbacks = [early_stopping])"
   ]
  },
  {
   "cell_type": "code",
   "execution_count": 30,
   "id": "abd99148-cabf-4d59-96c2-8e93176222ea",
   "metadata": {},
   "outputs": [
    {
     "ename": "KeyError",
     "evalue": "'val_loss'",
     "output_type": "error",
     "traceback": [
      "\u001b[1;31m---------------------------------------------------------------------------\u001b[0m",
      "\u001b[1;31mKeyError\u001b[0m                                  Traceback (most recent call last)",
      "Cell \u001b[1;32mIn[30], line 3\u001b[0m\n\u001b[0;32m      1\u001b[0m \u001b[38;5;66;03m# On affiche le suivi de l'apprentissage\u001b[39;00m\n\u001b[0;32m      2\u001b[0m plt\u001b[38;5;241m.\u001b[39mplot(history\u001b[38;5;241m.\u001b[39mhistory[\u001b[38;5;124m'\u001b[39m\u001b[38;5;124mloss\u001b[39m\u001b[38;5;124m'\u001b[39m], label \u001b[38;5;241m=\u001b[39m \u001b[38;5;124m'\u001b[39m\u001b[38;5;124mloss\u001b[39m\u001b[38;5;124m'\u001b[39m)\n\u001b[1;32m----> 3\u001b[0m plt\u001b[38;5;241m.\u001b[39mplot(\u001b[43mhistory\u001b[49m\u001b[38;5;241;43m.\u001b[39;49m\u001b[43mhistory\u001b[49m\u001b[43m[\u001b[49m\u001b[38;5;124;43m'\u001b[39;49m\u001b[38;5;124;43mval_loss\u001b[39;49m\u001b[38;5;124;43m'\u001b[39;49m\u001b[43m]\u001b[49m, label \u001b[38;5;241m=\u001b[39m \u001b[38;5;124m'\u001b[39m\u001b[38;5;124mval_loss\u001b[39m\u001b[38;5;124m'\u001b[39m)\n\u001b[0;32m      4\u001b[0m plt\u001b[38;5;241m.\u001b[39mxlabel(\u001b[38;5;124m'\u001b[39m\u001b[38;5;124mEpoch\u001b[39m\u001b[38;5;124m'\u001b[39m)\n\u001b[0;32m      5\u001b[0m plt\u001b[38;5;241m.\u001b[39mylabel(\u001b[38;5;124m'\u001b[39m\u001b[38;5;124mLoss\u001b[39m\u001b[38;5;124m'\u001b[39m)\n",
      "\u001b[1;31mKeyError\u001b[0m: 'val_loss'"
     ]
    },
    {
     "data": {
      "image/png": "[encoded data removed]",
      "text/plain": [
       "<Figure size 640x480 with 1 Axes>"
      ]
     },
     "metadata": {},
     "output_type": "display_data"
    }
   ],
   "source": [
    "# On affiche le suivi de l'apprentissage\n",
    "plt.plot(history.history['loss'], label = 'loss')\n",
    "plt.plot(history.history['val_loss'], label = 'val_loss')\n",
    "plt.xlabel('Epoch')\n",
    "plt.ylabel('Loss')\n",
    "plt.legend()\n",
    "plt.show()"
   ]
  },
  {
   "cell_type": "code",
   "execution_count": null,
   "id": "49ee8859",
   "metadata": {},
   "outputs": [],
   "source": [
    "# On évalue le modèle sur le testset\n",
    "loss = model.evaluate(testset)\n",
    "print(\"Test Loss:\", loss.numpy())"
   ]
  },
  {
   "cell_type": "code",
   "execution_count": null,
   "id": "717b7288-07c6-4b8a-88fc-b19e7898a166",
   "metadata": {},
   "outputs": [],
   "source": []
  }
 ],
 "metadata": {
  "kernelspec": {
   "display_name": "Python with MATLAB Engine",
   "language": "python",
   "name": "python_with_matlab"
  },
  "language_info": {
   "codemirror_mode": {
    "name": "ipython",
    "version": 3
   },
   "file_extension": ".py",
   "mimetype": "text/x-python",
   "name": "python",
   "nbconvert_exporter": "python",
   "pygments_lexer": "ipython3",
   "version": "3.12.7"
  }
 },
 "nbformat": 4,
 "nbformat_minor": 5
}
