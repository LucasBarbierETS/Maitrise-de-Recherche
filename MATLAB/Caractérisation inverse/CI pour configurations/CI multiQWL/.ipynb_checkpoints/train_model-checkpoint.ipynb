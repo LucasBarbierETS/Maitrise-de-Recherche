{
 "cells": [
  {
   "cell_type": "code",
   "execution_count": 1,
   "id": "eea6891c",
   "metadata": {},
   "outputs": [],
   "source": [
    "# On importe les bibliotèques pour la gestion d'objet et le traitement de données\n",
    "import matlab\n",
    "import matlab.engine as engine\n",
    "import numpy as np\n",
    "import scipy.io as scipy\n",
    "import tensorflow as tf"
   ]
  },
  {
   "cell_type": "code",
   "execution_count": 2,
   "id": "d70186a5-6bb1-482e-88e8-701e6d8f90c4",
   "metadata": {},
   "outputs": [],
   "source": [
    "# On importe les bibliotèques associées aux méthodes d'apprentissage supervisé\n",
    "from sklearn.model_selection import train_test_split\n",
    "import tensorflow as tf\n",
    "from tensorflow.keras.models import Sequential\n",
    "from tensorflow.keras.layers import Dense\n",
    "from tensorflow.keras.optimizers import Adam\n",
    "from tensorflow.keras.callbacks import EarlyStopping"
   ]
  },
  {
   "cell_type": "code",
   "execution_count": 3,
   "id": "d9c5efce-bfe3-489d-ad5c-c36649b03d0f",
   "metadata": {},
   "outputs": [],
   "source": [
    "# On démarre l'environnement virtuel MATLAB\n",
    "eng = engine.start_matlab()"
   ]
  },
  {
   "cell_type": "code",
   "execution_count": 4,
   "id": "76e20163",
   "metadata": {},
   "outputs": [],
   "source": [
    "# On ajoute le chemin d'accès vers l'emplacement de la fonction \n",
    "eng.addpath(r\"C:\\Users\\Utilisateur\\OneDrive - ETS\\CRIAQ-REAR\\Maitrise LB\\Functions\", nargout = 0)\n",
    "eng.add_all_paths(r\"C:\\Users\\Utilisateur\\OneDrive - ETS\\CRIAQ-REAR\\Maitrise LB\", nargout = 0)"
   ]
  },
  {
   "cell_type": "code",
   "execution_count": 5,
   "id": "4bde01af-496f-4d25-9d6a-2741f0fbf1d0",
   "metadata": {},
   "outputs": [],
   "source": [
    "# on définit les paramètres de l'environnement\n",
    "T = 23 # température\n",
    "P = 100800 # static pressure\n",
    "H = 50 # relative humidity\n",
    "\n",
    "# on définit les paramètres du support fréquentiel\n",
    "fmin = 1 # fréquence minimale (Hz)\n",
    "fmax = 3000 # fréquence maximale (Hz)\n",
    "points = 7 # nombre de points sur le spectre\n",
    "\n",
    "# On convertit les données en format MATLAB\n",
    "T_matlab = matlab.double([T])  # Convertir en tableau MATLAB\n",
    "P_matlab = matlab.double([P])\n",
    "H_matlab = matlab.double([H])\n",
    "fmin_matlab = matlab.double([fmin])\n",
    "fmax_matlab = matlab.double([fmax])\n",
    "points_matlab = matlab.double([points])\n",
    "\n",
    "# Appeler la fonction MATLAB (par exemple create_environnement)\n",
    "air_matlab, w_matlab = eng.create_environnement(T_matlab[0], P_matlab[0], H_matlab[0], fmin_matlab[0], fmax_matlab[0], points_matlab[0], nargout = 2)"
   ]
  },
  {
   "cell_type": "code",
   "execution_count": 6,
   "id": "1b002349-13dd-417c-a221-4c05b88a8c51",
   "metadata": {},
   "outputs": [],
   "source": [
    "# On importe le dataset (création du trainset et du testset)\n",
    "eng.load(r'C:\\Users\\Utilisateur\\OneDrive - ETS\\CRIAQ-REAR\\Maitrise LB\\Caractérisation inverse\\CI pour configurations\\CI multiQWL\\data.mat', nargout = 0)\n",
    "data_matlab  = eng.workspace['data']\n",
    "data = {field: np.array(data_matlab[field]) for field in data_matlab.keys()}\n",
    "x = data['X']\n",
    "y = data['Y']"
   ]
  },
  {
   "cell_type": "code",
   "execution_count": 7,
   "id": "884f653b-cf90-46e2-a80e-04729f483481",
   "metadata": {},
   "outputs": [],
   "source": [
    "# On prépare les données pour l'apprentissage\n",
    "x_train, x_test, y_train, y_test = train_test_split(x, y, train_size = 0.8, random_state = 42)\n",
    "\n",
    "# On convertit les données en float32\n",
    "x_train = tf.cast(x_train, tf.float32)\n",
    "y_train = tf.cast(y_train, tf.float32)\n",
    "x_test = tf.cast(x_test, tf.float32)\n",
    "y_test = tf.cast(y_test, tf.float32)\n",
    "\n",
    "# On crée les datasets TensorFlow à partir des valeurs extraites\n",
    "trainset = tf.data.Dataset.from_tensor_slices((x_train, y_train)).shuffle(buffer_size = 100).batch(32)\n",
    "testset = tf.data.Dataset.from_tensor_slices((x_test, y_test)).shuffle(buffer_size = 100).batch(32)"
   ]
  },
  {
   "cell_type": "code",
   "execution_count": 56,
   "id": "33a1331c-be68-4527-b833-6b4ad3298972",
   "metadata": {},
   "outputs": [
    {
     "name": "stdout",
     "output_type": "stream",
     "text": [
      "(32, 7)\n",
      "(32, 8)\n",
      "x_batch sample: [0.00596544 0.6744992  0.5438734  0.48202226 0.77146727 0.862798\n",
      " 0.6283986 ]\n",
      "y_batch sample: [0.00505857 0.00154253 0.0039564  0.00125924 0.6067501  0.37713042\n",
      " 0.50102377 0.5613443 ]\n"
     ]
    }
   ],
   "source": [
    "# On teste les données du trainset\n",
    "for x_batch, y_batch in trainset.take(1):\n",
    "    print(x_batch.shape)  # Devrait afficher (32, 7)\n",
    "    print(y_batch.shape)  # Devrait afficher (32, 8)\n",
    "    print(\"x_batch sample:\", x_batch.numpy()[0])\n",
    "    print(\"y_batch sample:\", y_batch.numpy()[0])"
   ]
  },
  {
   "cell_type": "code",
   "execution_count": 58,
   "id": "d6b39f41-5e48-4169-b894-aab0482c5ce7",
   "metadata": {},
   "outputs": [],
   "source": [
    "# On définit un modèle personnalisé\n",
    "class CustomModel(tf.keras.Model):\n",
    "    def __init__(self, hidden_layers_dim, input_dim, output_dim, air_matlab, w_matlab):\n",
    "        super(CustomModel, self).__init__()\n",
    "        self.hidden_layers_dim = hidden_layers_dim\n",
    "        self.air_matlab = air_matlab\n",
    "        self.w_matlab = w_matlab\n",
    "        self.input_dim = input_dim\n",
    "        self.output_dim = output_dim\n",
    "\n",
    "        self.input_layer = tf.keras.layers.Dense(self.input_dim, input_shape(self.input_dim,))\n",
    "        self.dense1 = tf.keras.layers.Dense(hidden_units, activation = 'relu')\n",
    "        self.dense2 = tf.keras.layers.Dense(hidden_units, activation = 'relu')\n",
    "        self.dense3 = tf.keras.layers.Dense(hidden_units, activation = 'relu')\n",
    "        self.dense4 = tf.keras.layers.Dense(hidden_units, activation = 'relu')\n",
    "        self.output_layer = tf.keras.layers.Dense(self.output_dim, activation = 'linear')\n",
    "\n",
    "    def call(self, inputs):\n",
    "        print(\"Shape of inputs:\", inputs.shape)\n",
    "        x = self.input_layer(inputs)\n",
    "        print(\"Shape after input layer:\", x.shape)\n",
    "        x = self.dense1(x)\n",
    "        print(\"Shape after dense1:\", x.shape)\n",
    "        x = self.dense2(x)\n",
    "        print(\"Shape after dense2:\", x.shape)\n",
    "        x = self.dense3(x)\n",
    "        print(\"Shape after dense3:\", x.shape)\n",
    "        x = self.dense4(x)\n",
    "        print(\"Shape after dense4:\", x.shape)\n",
    "        output = self.output_layer(x)\n",
    "        print(\"Shape of output:\", output.shape)\n",
    "        return output\n",
    "\n",
    "    def train_step(self, data):\n",
    "        x_batch, y_batch = data  # Obtenez les entrées et les sorties du batch\n",
    "        \n",
    "        # Vérifiez les dimensions des batchs\n",
    "        print(\"Shape of x_batch:\", x_batch.shape)\n",
    "        print(\"Shape of y_batch:\", y_batch.shape)\n",
    "        \n",
    "        with tf.GradientTape() as tape:\n",
    "            y_pred = self.call(x_batch)\n",
    "            print(\"Shape of y_pred:\", y_pred.shape)\n",
    "            loss = custom_loss(x_batch, y_pred, self.air_matlab, self.w_matlab)\n",
    "            print(\"loss dans trainstep: \", loss)\n",
    "            \n",
    "\n",
    "        # Calculer les gradients et les appliquer\n",
    "        gradients = tape.gradient(loss, self.trainable_variables)\n",
    "        print(\"Gradients:\", gradients)\n",
    "        self.optimizer.apply_gradients(zip(gradients, self.trainable_variables))\n",
    "        return {\"loss\": loss}"
   ]
  },
  {
   "cell_type": "code",
   "execution_count": 50,
   "id": "d22c9924-dc60-470c-9386-82554e71b188",
   "metadata": {},
   "outputs": [],
   "source": [
    "def multiQWL_cost_function_python_wrapper(x_batch_tf_symb, y_pred_tf_symb, air_matlab, w_matlab):\n",
    "    def wrapped_cost_function(x_batch_tf, y_pred_tf):\n",
    "        return multiQWL_cost_function_python(x_batch_tf, y_pred_tf, air_matlab, w_matlab)\n",
    "    return wrapped_cost_function\n",
    "\n",
    "def custom_loss(x_batch_tf_symb, y_pred_tf_symb, air_matlab, w_matlab):\n",
    "    # On évalue la fonction d'appel après avoir évaluer les tenseurs symboliques\n",
    "    wrapper = multiQWL_cost_function_python_wrapper(x_batch_tf_symb, y_pred_tf_symb, air_matlab, w_matlab)\n",
    "    loss_value = tf.py_function(func = wrapper, inp = [x_batch_tf_symb, y_pred_tf_symb], Tout = tf.float32)\n",
    "    return loss_value"
   ]
  },
  {
   "cell_type": "code",
   "execution_count": 51,
   "id": "522bfd0d-7fa7-4eff-83b4-56b3d801a64b",
   "metadata": {},
   "outputs": [],
   "source": [
    "# On définit la fonction d'appel de la fonction de perte définit sur matlab qui prend en entrée des tenseurs statiques\n",
    "def multiQWL_cost_function_python(x_batch_tf_stat, y_pred_tf_stat, air_matlab, w_matlab):\n",
    "    x_batch_np = x_batch_tf_stat.numpy()  # Cette opération devrait être effectuée ici\n",
    "    y_batch_np = y_pred_tf_stat.numpy()\n",
    "    \n",
    "    # Convertir en format MATLAB\n",
    "    x_batch_matlab = matlab.double(x_batch_np.tolist())\n",
    "    y_batch_matlab = matlab.double(y_batch_np.tolist())\n",
    "    \n",
    "    # Appeler la fonction MATLAB pour calculer la perte\n",
    "    loss = eng.multiQWL_cost_function(x_batch_matlab, y_batch_matlab, air_matlab, w_matlab)\n",
    "    print(\"loss\", loss)\n",
    "    return loss"
   ]
  },
  {
   "cell_type": "code",
   "execution_count": 52,
   "id": "e82eab2f-83ad-4adc-b976-f61dd871d5b4",
   "metadata": {},
   "outputs": [],
   "source": [
    "# On définit les hyperparamètres nécessaires à l'apprentissage\n",
    "input_dim = x_train.shape[1]  # Dimension de l'entrée (nombre de colonnes)\n",
    "output_dim = y_train.shape[1] # Dimension de la sortie (nombre de colonnes)\n",
    "hidden_units = 10  # Nombre de neurones dans la couche cachée\n",
    "learning_rate = 0.01  # Taux d'apprentissage\n",
    "epochs = 5  # Nombre maximum d'itérations\n",
    "goal = 1e-5  # Seuil d'erreur (utilisé pour l'early stopping)\n",
    "max_fail = 6  # Nombre maximum d'échecs de validation (patience pour l'early stopping)"
   ]
  },
  {
   "cell_type": "code",
   "execution_count": 53,
   "id": "75d6eb7b-387b-4af9-9342-e49dee877a59",
   "metadata": {},
   "outputs": [
    {
     "data": {
      "text/plain": [
       "8"
      ]
     },
     "execution_count": 53,
     "metadata": {},
     "output_type": "execute_result"
    }
   ],
   "source": [
    "output_dim"
   ]
  },
  {
   "cell_type": "code",
   "execution_count": 54,
   "id": "3b7764dd-5df8-4e76-803c-0486163c6638",
   "metadata": {},
   "outputs": [],
   "source": [
    "# On crée et compile le modèle personnalisé\n",
    "model = CustomModel(hidden_units, input_dim, output_dim, air_matlab, w_matlab)\n",
    "model.compile(optimizer = tf.keras.optimizers.Adam(learning_rate = learning_rate))"
   ]
  },
  {
   "cell_type": "code",
   "execution_count": 55,
   "id": "29673649-a0a4-4d33-b5a7-2dd14aee9c08",
   "metadata": {},
   "outputs": [
    {
     "name": "stdout",
     "output_type": "stream",
     "text": [
      "Epoch 1/5\n",
      "Shape of x_batch: (None, 7)\n",
      "Shape of y_batch: (None, 8)\n",
      "Shape of inputs: (None, 7)\n",
      "Shape after input layer: (None, 7)\n",
      "Shape after dense1: (None, 10)\n",
      "Shape after dense2: (None, 10)\n",
      "Shape after dense3: (None, 10)\n",
      "Shape after dense4: (None, 10)\n",
      "Shape of output: (None, 8)\n",
      "Shape of y_pred: (None, 8)\n",
      "Gradients: [<tf.Tensor 'gradient_tape/dense_35_1/MatMul/MatMul:0' shape=(7, 7) dtype=float32>, <tf.Tensor 'gradient_tape/dense_35_1/Add/Reshape:0' shape=(7,) dtype=float32>, <tf.Tensor 'gradient_tape/dense_36_1/MatMul/MatMul_1:0' shape=(7, 10) dtype=float32>, <tf.Tensor 'gradient_tape/dense_36_1/Add/Reshape:0' shape=(10,) dtype=float32>, <tf.Tensor 'gradient_tape/dense_37_1/MatMul/MatMul_1:0' shape=(10, 10) dtype=float32>, <tf.Tensor 'gradient_tape/dense_37_1/Add/Reshape:0' shape=(10,) dtype=float32>, <tf.Tensor 'gradient_tape/dense_38_1/MatMul/MatMul_1:0' shape=(10, 10) dtype=float32>, <tf.Tensor 'gradient_tape/dense_38_1/Add/Reshape:0' shape=(10,) dtype=float32>, <tf.Tensor 'gradient_tape/dense_39_1/MatMul/MatMul_1:0' shape=(10, 10) dtype=float32>, <tf.Tensor 'gradient_tape/dense_39_1/Add/Reshape:0' shape=(10,) dtype=float32>, <tf.Tensor 'gradient_tape/dense_40_1/MatMul/MatMul_1:0' shape=(10, None) dtype=float32>, <tf.Tensor 'gradient_tape/dense_40_1/Add/Reshape:0' shape=(8,) dtype=float32>]\n",
      "Shape of x_batch: (None, 7)\n",
      "Shape of y_batch: (None, 8)\n",
      "Shape of inputs: (None, 7)\n",
      "Shape after input layer: (None, 7)\n",
      "Shape after dense1: (None, 10)\n",
      "Shape after dense2: (None, 10)\n",
      "Shape after dense3: (None, 10)\n",
      "Shape after dense4: (None, 10)\n",
      "Shape of output: (None, 8)\n",
      "Shape of y_pred: (None, 8)\n",
      "Gradients: [<tf.Tensor 'gradient_tape/dense_35_1/MatMul/MatMul:0' shape=(7, 7) dtype=float32>, <tf.Tensor 'gradient_tape/dense_35_1/Add/Reshape:0' shape=(7,) dtype=float32>, <tf.Tensor 'gradient_tape/dense_36_1/MatMul/MatMul_1:0' shape=(7, 10) dtype=float32>, <tf.Tensor 'gradient_tape/dense_36_1/Add/Reshape:0' shape=(10,) dtype=float32>, <tf.Tensor 'gradient_tape/dense_37_1/MatMul/MatMul_1:0' shape=(10, 10) dtype=float32>, <tf.Tensor 'gradient_tape/dense_37_1/Add/Reshape:0' shape=(10,) dtype=float32>, <tf.Tensor 'gradient_tape/dense_38_1/MatMul/MatMul_1:0' shape=(10, 10) dtype=float32>, <tf.Tensor 'gradient_tape/dense_38_1/Add/Reshape:0' shape=(10,) dtype=float32>, <tf.Tensor 'gradient_tape/dense_39_1/MatMul/MatMul_1:0' shape=(10, 10) dtype=float32>, <tf.Tensor 'gradient_tape/dense_39_1/Add/Reshape:0' shape=(10,) dtype=float32>, <tf.Tensor 'gradient_tape/dense_40_1/MatMul/MatMul_1:0' shape=(10, None) dtype=float32>, <tf.Tensor 'gradient_tape/dense_40_1/Add/Reshape:0' shape=(8,) dtype=float32>]\n",
      "loss 320.0\n"
     ]
    },
    {
     "ename": "InvalidArgumentError",
     "evalue": "Graph execution error:\n\nDetected at node StatefulPartitionedCall/gradient_tape/dense_40_1/MatMul/MatMul_1 defined at (most recent call last):\n<stack traces unavailable>\nIn[1] ndims must be >= 2\n\t [[{{node StatefulPartitionedCall/gradient_tape/dense_40_1/MatMul/MatMul_1}}]] [Op:__inference_one_step_on_iterator_13080]",
     "output_type": "error",
     "traceback": [
      "\u001b[1;31m---------------------------------------------------------------------------\u001b[0m",
      "\u001b[1;31mInvalidArgumentError\u001b[0m                      Traceback (most recent call last)",
      "Cell \u001b[1;32mIn[55], line 5\u001b[0m\n\u001b[0;32m      2\u001b[0m early_stopping \u001b[38;5;241m=\u001b[39m tf\u001b[38;5;241m.\u001b[39mkeras\u001b[38;5;241m.\u001b[39mcallbacks\u001b[38;5;241m.\u001b[39mEarlyStopping(monitor \u001b[38;5;241m=\u001b[39m \u001b[38;5;124m'\u001b[39m\u001b[38;5;124mloss\u001b[39m\u001b[38;5;124m'\u001b[39m, patience \u001b[38;5;241m=\u001b[39m max_fail, min_delta \u001b[38;5;241m=\u001b[39m goal)\n\u001b[0;32m      4\u001b[0m \u001b[38;5;66;03m# On crée et on compile le modèle personnalisé\u001b[39;00m\n\u001b[1;32m----> 5\u001b[0m history \u001b[38;5;241m=\u001b[39m \u001b[43mmodel\u001b[49m\u001b[38;5;241;43m.\u001b[39;49m\u001b[43mfit\u001b[49m\u001b[43m(\u001b[49m\u001b[43mtrainset\u001b[49m\u001b[43m,\u001b[49m\u001b[43m \u001b[49m\u001b[43mepochs\u001b[49m\u001b[43m \u001b[49m\u001b[38;5;241;43m=\u001b[39;49m\u001b[43m \u001b[49m\u001b[43mepochs\u001b[49m\u001b[43m,\u001b[49m\u001b[43m \u001b[49m\u001b[43mcallbacks\u001b[49m\u001b[43m \u001b[49m\u001b[38;5;241;43m=\u001b[39;49m\u001b[43m \u001b[49m\u001b[43m[\u001b[49m\u001b[43mearly_stopping\u001b[49m\u001b[43m]\u001b[49m\u001b[43m)\u001b[49m\n\u001b[0;32m      7\u001b[0m \u001b[38;5;66;03m# On affiche le suivi de l'apprentissage\u001b[39;00m\n\u001b[0;32m      8\u001b[0m plt\u001b[38;5;241m.\u001b[39mplot(history\u001b[38;5;241m.\u001b[39mhistory[\u001b[38;5;124m'\u001b[39m\u001b[38;5;124mloss\u001b[39m\u001b[38;5;124m'\u001b[39m], label\u001b[38;5;241m=\u001b[39m\u001b[38;5;124m'\u001b[39m\u001b[38;5;124mloss\u001b[39m\u001b[38;5;124m'\u001b[39m)\n",
      "File \u001b[1;32m~\\AppData\\Local\\Packages\\PythonSoftwareFoundation.Python.3.12_qbz5n2kfra8p0\\LocalCache\\local-packages\\Python312\\site-packages\\keras\\src\\utils\\traceback_utils.py:122\u001b[0m, in \u001b[0;36mfilter_traceback.<locals>.error_handler\u001b[1;34m(*args, **kwargs)\u001b[0m\n\u001b[0;32m    119\u001b[0m     filtered_tb \u001b[38;5;241m=\u001b[39m _process_traceback_frames(e\u001b[38;5;241m.\u001b[39m__traceback__)\n\u001b[0;32m    120\u001b[0m     \u001b[38;5;66;03m# To get the full stack trace, call:\u001b[39;00m\n\u001b[0;32m    121\u001b[0m     \u001b[38;5;66;03m# `keras.config.disable_traceback_filtering()`\u001b[39;00m\n\u001b[1;32m--> 122\u001b[0m     \u001b[38;5;28;01mraise\u001b[39;00m e\u001b[38;5;241m.\u001b[39mwith_traceback(filtered_tb) \u001b[38;5;28;01mfrom\u001b[39;00m \u001b[38;5;28;01mNone\u001b[39;00m\n\u001b[0;32m    123\u001b[0m \u001b[38;5;28;01mfinally\u001b[39;00m:\n\u001b[0;32m    124\u001b[0m     \u001b[38;5;28;01mdel\u001b[39;00m filtered_tb\n",
      "File \u001b[1;32m~\\AppData\\Local\\Packages\\PythonSoftwareFoundation.Python.3.12_qbz5n2kfra8p0\\LocalCache\\local-packages\\Python312\\site-packages\\tensorflow\\python\\eager\\execute.py:53\u001b[0m, in \u001b[0;36mquick_execute\u001b[1;34m(op_name, num_outputs, inputs, attrs, ctx, name)\u001b[0m\n\u001b[0;32m     51\u001b[0m \u001b[38;5;28;01mtry\u001b[39;00m:\n\u001b[0;32m     52\u001b[0m   ctx\u001b[38;5;241m.\u001b[39mensure_initialized()\n\u001b[1;32m---> 53\u001b[0m   tensors \u001b[38;5;241m=\u001b[39m pywrap_tfe\u001b[38;5;241m.\u001b[39mTFE_Py_Execute(ctx\u001b[38;5;241m.\u001b[39m_handle, device_name, op_name,\n\u001b[0;32m     54\u001b[0m                                       inputs, attrs, num_outputs)\n\u001b[0;32m     55\u001b[0m \u001b[38;5;28;01mexcept\u001b[39;00m core\u001b[38;5;241m.\u001b[39m_NotOkStatusException \u001b[38;5;28;01mas\u001b[39;00m e:\n\u001b[0;32m     56\u001b[0m   \u001b[38;5;28;01mif\u001b[39;00m name \u001b[38;5;129;01mis\u001b[39;00m \u001b[38;5;129;01mnot\u001b[39;00m \u001b[38;5;28;01mNone\u001b[39;00m:\n",
      "\u001b[1;31mInvalidArgumentError\u001b[0m: Graph execution error:\n\nDetected at node StatefulPartitionedCall/gradient_tape/dense_40_1/MatMul/MatMul_1 defined at (most recent call last):\n<stack traces unavailable>\nIn[1] ndims must be >= 2\n\t [[{{node StatefulPartitionedCall/gradient_tape/dense_40_1/MatMul/MatMul_1}}]] [Op:__inference_one_step_on_iterator_13080]"
     ]
    }
   ],
   "source": [
    "# On implémente un callback d'early stopping\n",
    "early_stopping = tf.keras.callbacks.EarlyStopping(monitor = 'loss', patience = max_fail, min_delta = goal)\n",
    "\n",
    "# On crée et on compile le modèle personnalisé\n",
    "history = model.fit(trainset, epochs = epochs, callbacks = [early_stopping])\n",
    "\n",
    "# On affiche le suivi de l'apprentissage\n",
    "plt.plot(history.history['loss'], label='loss')\n",
    "plt.plot(history.history['val_loss'], label='val_loss')\n",
    "plt.xlabel('Epoch')\n",
    "plt.ylabel('Loss')\n",
    "plt.legend()\n",
    "plt.show()"
   ]
  },
  {
   "cell_type": "code",
   "execution_count": null,
   "id": "49ee8859",
   "metadata": {},
   "outputs": [],
   "source": [
    "# On évalue le modèle sur le testset\n",
    "loss = model.evaluate(testset)\n",
    "print(\"Test Loss:\", loss.numpy())"
   ]
  },
  {
   "cell_type": "code",
   "execution_count": null,
   "id": "717b7288-07c6-4b8a-88fc-b19e7898a166",
   "metadata": {},
   "outputs": [],
   "source": []
  }
 ],
 "metadata": {
  "kernelspec": {
   "display_name": "Python with MATLAB Engine",
   "language": "python",
   "name": "python_with_matlab"
  },
  "language_info": {
   "codemirror_mode": {
    "name": "ipython",
    "version": 3
   },
   "file_extension": ".py",
   "mimetype": "text/x-python",
   "name": "python",
   "nbconvert_exporter": "python",
   "pygments_lexer": "ipython3",
   "version": "3.12.7"
  }
 },
 "nbformat": 4,
 "nbformat_minor": 5
}
